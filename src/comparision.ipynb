{
 "cells": [
  {
   "cell_type": "code",
   "execution_count": 1,
   "metadata": {},
   "outputs": [],
   "source": [
    "import numpy as np\n",
    "import pandas as pd"
   ]
  },
  {
   "cell_type": "markdown",
   "metadata": {},
   "source": [
    "## Combined, n = 5"
   ]
  },
  {
   "cell_type": "code",
   "execution_count": 3,
   "metadata": {},
   "outputs": [],
   "source": [
    "data = pd.read_csv('/Users/sanskrirtisingh/Documents/GitHub/Question-Answer-Pair-Generation-Evaluation/src/result/test20/qna_overall.csv')"
   ]
  },
  {
   "cell_type": "code",
   "execution_count": 5,
   "metadata": {},
   "outputs": [
    {
     "name": "stdout",
     "output_type": "stream",
     "text": [
      "[0.9795720819180056, 0.9743245861302844, 0.975306998695752, 0.9715219368154784, 0.9579064178880372, 0.972758303580006, 0.9667461541149396, 0.9713882407036892, 0.97313996609377, 0.9700899229788398, 0.9713313576247324, 0.9703965497668174, 0.9676325808548216, 0.9627664633422126, 0.9641957020199878, 0.9619812006250104, 0.9620617796988944, 0.970106634616538, 0.9611767410842308, 0.9663907712383444, 0.9656370838647548, 0.9617467931848438, 0.9626830809230909, 0.9579064178880372, 0.9690265557008092, 0.9655030172899596, 0.9581589411024868, 0.9605817146474068, 0.9621448230954656, 0.963419707802924, 0.9291404511945952, 0.9291180956999142, 0.9294842318434264, 0.9296772283084772, 0.9297562889298372, 0.9233709990850618, 0.9236263250449884, 0.9216475405483506, 0.9192155002289292, 0.9238631564390574, 0.9707354111873192, 0.9656562884283292, 0.9668949696723642, 0.9713244210418563, 0.9605218027748345, 0.9374898507169817, 0.9345537655167612, 0.9439150417991806, 0.9326676057274224, 0.93043992490433, 0.9369667820186878, 0.933032447862674, 0.933189081359844, 0.9401671984263196, 0.9367903358890008, 0.9386550955997292, 0.9366422575695964, 0.9356650022355332, 0.9748331695949244, 0.959461799328146, 0.9678956219675626, 0.9749071221196872, 0.978462137291027, 0.9691803554117052, 0.9696871888603588, 0.9685031185615582, 0.9607695504753118, 0.9690464634323924, 0.9712025018819278, 0.9772570606700748, 0.9689504864977108, 0.9634389592544076, 0.9649025394835564, 0.9746652534021448, 0.967222783172758, 0.9708508410825052, 0.9716838491085892, 0.969238277960818, 0.955124601146404, 0.9587163724140898, 0.9558336185072336, 0.9610002451284112, 0.9580566637526002, 0.9624095269346749, 0.9625943325614852, 0.9612791160312286, 0.961948752058486, 0.9659584518483652, 0.963908748059812, 0.9642220170118758, 0.9648004631115196, 0.9690579458068438, 0.9664173043137044]\n"
     ]
    }
   ],
   "source": [
    "scores_list_1 = list(data[\"overall\"])\n",
    "print(scores_list_1)"
   ]
  },
  {
   "cell_type": "code",
   "execution_count": 6,
   "metadata": {},
   "outputs": [
    {
     "name": "stdout",
     "output_type": "stream",
     "text": [
      "0.9579064178880373\n"
     ]
    }
   ],
   "source": [
    "score_mean_1 = np.mean(list(data[\"overall\"]))\n",
    "print(score_mean_1)"
   ]
  },
  {
   "cell_type": "code",
   "execution_count": 7,
   "metadata": {},
   "outputs": [
    {
     "name": "stdout",
     "output_type": "stream",
     "text": [
      "93\n"
     ]
    }
   ],
   "source": [
    "total_qna_1 = len(data)\n",
    "print(total_qna_1)"
   ]
  },
  {
   "cell_type": "markdown",
   "metadata": {},
   "source": [
    "## Separate, n = 5"
   ]
  },
  {
   "cell_type": "code",
   "execution_count": 11,
   "metadata": {},
   "outputs": [],
   "source": [
    "data = pd.read_csv('/Users/sanskrirtisingh/Documents/GitHub/Question-Answer-Pair-Generation-Evaluation/src/result/test21/qna_overall.csv')"
   ]
  },
  {
   "cell_type": "code",
   "execution_count": 12,
   "metadata": {},
   "outputs": [
    {
     "name": "stdout",
     "output_type": "stream",
     "text": [
      "[0.952949783158216, 0.950207524457008, 0.9479260166118318, 0.950828551249304, 0.950867428793356, 0.9521554586167936, 0.9458205722925964, 0.94799631911933, 0.9420192954988672, 0.9541178280312762, 0.9469764544895904, 0.9508746970494572, 0.9456797205402124, 0.9408493409187914, 0.9408466526946536, 0.9497276709792426, 0.9468136079243636, 0.9483475530728014, 0.943870038150563, 0.9468043807505644, 0.9499668875837382, 0.9474532517551452, 0.9407226050164694, 0.9468505508965166, 0.951439960864958, 0.9461757902117972, 0.9471514276107434, 0.951609101806756, 0.9499475883216004, 0.9504979370187684, 0.938547638896094, 0.928790931215924, 0.9335504500246872, 0.936510966927197, 0.9317060503740512, 0.9313011715894732, 0.9241607906838144, 0.9291985900010148, 0.9304657563660172, 0.9327447344606402, 0.951090456710404, 0.947676786678332, 0.9478166625577612, 0.9437285057824024, 0.9468217863184504, 0.9383209188173184, 0.9324997805619976, 0.9405246642521308, 0.9317558867120808, 0.9356250338606626, 0.9392775300295356, 0.9464484358222264, 0.941831185766372, 0.9423644856820732, 0.9325298078988976, 0.9552438537305508, 0.9548464065699712, 0.960731812843436, 0.9464484358222264, 0.9506871078321252, 0.9535216450222752, 0.9568837811545212, 0.9550318434605168, 0.9480347328114964, 0.9504905255463868, 0.9464484358222264, 0.9464484358222264, 0.9477399884363272, 0.951646873692228, 0.9515684406668578, 0.960957255196577, 0.9518170575966964, 0.9542365552766556, 0.9592834999604996, 0.9539751036316652, 0.9444271786594504, 0.9373842301870424, 0.9458326401463072, 0.9481031815298492, 0.9439001488624132, 0.953737149948052, 0.9546290474742573, 0.9570450971295388, 0.9462678541885596, 0.946109997171579, 0.9579885406342784, 0.952102549746692, 0.9501142254038966, 0.9543251142751544, 0.9595674742729838]\n"
     ]
    }
   ],
   "source": [
    "scores_list_2 = list(data[\"overall\"])\n",
    "print(scores_list_2)"
   ]
  },
  {
   "cell_type": "code",
   "execution_count": 13,
   "metadata": {},
   "outputs": [
    {
     "name": "stdout",
     "output_type": "stream",
     "text": [
      "0.9464484358222265\n"
     ]
    }
   ],
   "source": [
    "score_mean_2 = np.mean(list(data[\"overall\"]))\n",
    "print(score_mean_2)"
   ]
  },
  {
   "cell_type": "code",
   "execution_count": 14,
   "metadata": {},
   "outputs": [
    {
     "name": "stdout",
     "output_type": "stream",
     "text": [
      "90\n"
     ]
    }
   ],
   "source": [
    "total_qna_2 = len(data)\n",
    "print(total_qna_2)"
   ]
  },
  {
   "cell_type": "markdown",
   "metadata": {},
   "source": [
    "## Generic, method = `combined`"
   ]
  },
  {
   "cell_type": "code",
   "execution_count": 15,
   "metadata": {},
   "outputs": [],
   "source": [
    "data = pd.read_csv('/Users/sanskrirtisingh/Documents/GitHub/Question-Answer-Pair-Generation-Evaluation/src/result/test22/qna_overall.csv')"
   ]
  },
  {
   "cell_type": "code",
   "execution_count": 16,
   "metadata": {},
   "outputs": [
    {
     "name": "stdout",
     "output_type": "stream",
     "text": [
      "[0.9748158647530144, 0.977664662741238, 0.9754095570098388, 0.9613618607700604, 0.9664337184164024, 0.967880563921362, 0.9331780735657068, 0.9223301658470144, 0.9701003119125128, 0.9389746693760784, 0.9419790449373704, 0.9767256005457574, 0.9704527978493974, 0.9682164480315566, 0.970662257513709, 0.956881381562622, 0.9602998794683292, 0.9646926655108312]\n"
     ]
    }
   ],
   "source": [
    "scores_list_3 = list(data[\"overall\"])\n",
    "print(scores_list_3)"
   ]
  },
  {
   "cell_type": "code",
   "execution_count": 17,
   "metadata": {},
   "outputs": [
    {
     "name": "stdout",
     "output_type": "stream",
     "text": [
      "0.9610033068740447\n"
     ]
    }
   ],
   "source": [
    "score_mean_3 = np.mean(list(data[\"overall\"]))\n",
    "print(score_mean_3)"
   ]
  },
  {
   "cell_type": "code",
   "execution_count": 18,
   "metadata": {},
   "outputs": [
    {
     "name": "stdout",
     "output_type": "stream",
     "text": [
      "18\n"
     ]
    }
   ],
   "source": [
    "total_qna_3 = len(data)\n",
    "print(total_qna_3)"
   ]
  },
  {
   "cell_type": "markdown",
   "metadata": {},
   "source": [
    "## Generic, method = `seperate`"
   ]
  },
  {
   "cell_type": "code",
   "execution_count": null,
   "metadata": {},
   "outputs": [],
   "source": [
    "data = pd.read_csv('/Users/sanskrirtisingh/Documents/GitHub/Question-Answer-Pair-Generation-Evaluation/src/result/test23/qna_overall.csv')"
   ]
  },
  {
   "cell_type": "code",
   "execution_count": null,
   "metadata": {},
   "outputs": [],
   "source": [
    "scores_list_4 = list(data[\"overall\"])\n",
    "print(scores_list_4)"
   ]
  },
  {
   "cell_type": "code",
   "execution_count": null,
   "metadata": {},
   "outputs": [],
   "source": [
    "score_mean_4 = np.mean(list(data[\"overall\"]))\n",
    "print(score_mean_4)"
   ]
  },
  {
   "cell_type": "code",
   "execution_count": null,
   "metadata": {},
   "outputs": [],
   "source": [
    "total_qna_4 = len(data)\n",
    "print(total_qna_4)"
   ]
  }
 ],
 "metadata": {
  "kernelspec": {
   "display_name": "data_project",
   "language": "python",
   "name": "python3"
  },
  "language_info": {
   "codemirror_mode": {
    "name": "ipython",
    "version": 3
   },
   "file_extension": ".py",
   "mimetype": "text/x-python",
   "name": "python",
   "nbconvert_exporter": "python",
   "pygments_lexer": "ipython3",
   "version": "3.11.9"
  }
 },
 "nbformat": 4,
 "nbformat_minor": 2
}
